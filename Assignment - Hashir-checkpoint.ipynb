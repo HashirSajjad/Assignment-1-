{
 "cells": [
  {
   "cell_type": "code",
   "execution_count": 2,
   "id": "3638f294",
   "metadata": {},
   "outputs": [
    {
     "name": "stdout",
     "output_type": "stream",
     "text": [
      "hello world\n"
     ]
    }
   ],
   "source": [
    "print(\"hello world\");"
   ]
  },
  {
   "cell_type": "code",
   "execution_count": 4,
   "id": "9c307b20",
   "metadata": {},
   "outputs": [
    {
     "name": "stdout",
     "output_type": "stream",
     "text": [
      "7\n"
     ]
    }
   ],
   "source": [
    "a=3;\n",
    "b=4;\n",
    "c=a+b;\n",
    "print (c);"
   ]
  },
  {
   "cell_type": "code",
   "execution_count": 5,
   "id": "0c6ef1a0",
   "metadata": {},
   "outputs": [
    {
     "name": "stdout",
     "output_type": "stream",
     "text": [
      "         Twinkle,twinkle,little,star\n",
      "                 How I wonder what you are\n",
      "                      Up above the world so high\n",
      "                      Like a diamond in the sky\n",
      "         Twinkle,twinkle,little,star\n"
     ]
    }
   ],
   "source": [
    "a= (\"         Twinkle,twinkle,little,star\");\n",
    "b= (\"                 How I wonder what you are\");\n",
    "c= (\"                      Up above the world so high\");\n",
    "d= (\"                      Like a diamond in the sky\");\n",
    "print(a);\n",
    "print(b);\n",
    "print(c);\n",
    "print(d);\n",
    "print(a);"
   ]
  },
  {
   "cell_type": "code",
   "execution_count": 6,
   "id": "488e84e4",
   "metadata": {},
   "outputs": [
    {
     "ename": "NameError",
     "evalue": "name 'python_version' is not defined",
     "output_type": "error",
     "traceback": [
      "\u001b[1;31m---------------------------------------------------------------------------\u001b[0m",
      "\u001b[1;31mNameError\u001b[0m                                 Traceback (most recent call last)",
      "\u001b[1;32mC:\\Users\\HASHIR~1\\AppData\\Local\\Temp/ipykernel_12548/3185964543.py\u001b[0m in \u001b[0;36m<module>\u001b[1;34m\u001b[0m\n\u001b[1;32m----> 1\u001b[1;33m \u001b[0mprint\u001b[0m\u001b[1;33m(\u001b[0m\u001b[0mpython_version\u001b[0m\u001b[1;33m(\u001b[0m\u001b[1;33m)\u001b[0m\u001b[1;33m)\u001b[0m\u001b[1;33m;\u001b[0m\u001b[1;33m\u001b[0m\u001b[1;33m\u001b[0m\u001b[0m\n\u001b[0m",
      "\u001b[1;31mNameError\u001b[0m: name 'python_version' is not defined"
     ]
    }
   ],
   "source": [
    "print(python_version());\n"
   ]
  },
  {
   "cell_type": "code",
   "execution_count": 7,
   "id": "49df15c7",
   "metadata": {},
   "outputs": [
    {
     "name": "stdout",
     "output_type": "stream",
     "text": [
      "3.9.7\n"
     ]
    }
   ],
   "source": [
    "from platform import python_version\n",
    "\n",
    "print(python_version())"
   ]
  },
  {
   "cell_type": "code",
   "execution_count": 8,
   "id": "eba9aff9",
   "metadata": {},
   "outputs": [
    {
     "name": "stdout",
     "output_type": "stream",
     "text": [
      "Today's date: 2022-01-01\n"
     ]
    }
   ],
   "source": [
    "from datetime import date \n",
    "today = date.today()\n",
    "print(\"Today's date:\", today)"
   ]
  },
  {
   "cell_type": "code",
   "execution_count": 9,
   "id": "bbfce12d",
   "metadata": {},
   "outputs": [
    {
     "name": "stdout",
     "output_type": "stream",
     "text": [
      "Input the radius of the circle : 4\n",
      "The area of the circle with radius 4.0 is: 50.26548245743669\n"
     ]
    }
   ],
   "source": [
    "\n",
    "from math import pi\n",
    " \n",
    "r = float(input (\"Input the radius of the circle : \"))\n",
    " \n",
    "calculateArea = str(pi * r**2);\n",
    " \n",
    "print (\"The area of the circle with radius \" + str(r) + \" is: \" + calculateArea)\n"
   ]
  },
  {
   "cell_type": "code",
   "execution_count": 10,
   "id": "2d3c5da5",
   "metadata": {},
   "outputs": [
    {
     "name": "stdout",
     "output_type": "stream",
     "text": [
      "Input your First Name : Hashir\n",
      "Input your Last Name : Sajjad\n",
      "Sajjad Hashir\n"
     ]
    }
   ],
   "source": [
    "fname = input(\"Input your First Name : \")\n",
    "lname = input(\"Input your Last Name : \")\n",
    "print (lname + \" \" + fname)"
   ]
  },
  {
   "cell_type": "code",
   "execution_count": null,
   "id": "c8827377",
   "metadata": {},
   "outputs": [],
   "source": [
    "\n",
    "num1 = input('Enter first number: ')\n",
    "num2 = input('Enter second number: ')\n",
    "\n",
    "\n",
    "sum = float(num1) + float(num2)\n",
    "\n",
    "\n",
    "print('The sum ='(,sum))"
   ]
  },
  {
   "cell_type": "code",
   "execution_count": 13,
   "id": "5bf060d4",
   "metadata": {},
   "outputs": [
    {
     "name": "stdout",
     "output_type": "stream",
     "text": [
      "Enter first number: 5\n",
      "Enter second number: 6\n",
      "The sum of 5 and 6 is 11.0\n"
     ]
    }
   ],
   "source": [
    "\n",
    "num1 = input('Enter first number: ')\n",
    "num2 = input('Enter second number: ')\n",
    "\n",
    "\n",
    "sum = float(num1) + float(num2)\n",
    "\n",
    "print('The sum of {0} and {1} is {2}'.format(num1, num2, sum));"
   ]
  },
  {
   "cell_type": "code",
   "execution_count": null,
   "id": "c14acbbe",
   "metadata": {},
   "outputs": [],
   "source": []
  },
  {
   "cell_type": "code",
   "execution_count": null,
   "id": "4f086207",
   "metadata": {},
   "outputs": [],
   "source": []
  }
 ],
 "metadata": {
  "kernelspec": {
   "display_name": "Python 3 (ipykernel)",
   "language": "python",
   "name": "python3"
  },
  "language_info": {
   "codemirror_mode": {
    "name": "ipython",
    "version": 3
   },
   "file_extension": ".py",
   "mimetype": "text/x-python",
   "name": "python",
   "nbconvert_exporter": "python",
   "pygments_lexer": "ipython3",
   "version": "3.9.7"
  }
 },
 "nbformat": 4,
 "nbformat_minor": 5
}
